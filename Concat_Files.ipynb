{
 "cells": [
  {
   "cell_type": "markdown",
   "metadata": {},
   "source": [
    "# Helper to concat .json files to a single file - used when we need to create the vector database:"
   ]
  },
  {
   "cell_type": "code",
   "execution_count": 2,
   "metadata": {},
   "outputs": [],
   "source": [
    "import json\n",
    "\n",
    "# List of your JSON file names\n",
    "files = ['Documents/doc_artentertainment.json', 'Documents/doc_culturetradition.json', 'Documents/doc_geography.json', 'Documents/doc_history.json', 'Documents/doc_grammar.json']\n",
    "\n",
    "merged_data = []\n",
    "for file in files:\n",
    "    with open(file, 'r') as f:\n",
    "        # Load the JSON content (which is expected to be a list)\n",
    "        data = json.load(f)\n",
    "        # Concatenate the content of each file into one list\n",
    "        merged_data.extend(data)\n",
    "\n",
    "# Write the combined list to a new JSON file\n",
    "with open('combined.json', 'w') as f:\n",
    "    json.dump(merged_data, f, indent=4)\n"
   ]
  }
 ],
 "metadata": {
  "kernelspec": {
   "display_name": "adl",
   "language": "python",
   "name": "python3"
  },
  "language_info": {
   "codemirror_mode": {
    "name": "ipython",
    "version": 3
   },
   "file_extension": ".py",
   "mimetype": "text/x-python",
   "name": "python",
   "nbconvert_exporter": "python",
   "pygments_lexer": "ipython3",
   "version": "3.11.7"
  }
 },
 "nbformat": 4,
 "nbformat_minor": 2
}
